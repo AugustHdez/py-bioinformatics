{
 "cells": [
  {
   "cell_type": "markdown",
   "metadata": {},
   "source": [
    "### Sequence Analysis of Lactase"
   ]
  },
  {
   "cell_type": "markdown",
   "metadata": {},
   "source": [
    "The protein encoded by this gene belongs to the glycosyl hydrolase 1 family of \n",
    "proteins. The encoded preproprotein is proteolytically processed to generate \n",
    "the mature enzyme. This enzyme is integral to the plasma membrane and has both \n",
    "phlorizin hydrolase activity and lactase activity. Mutations in this gene are \n",
    "associated with congenital lactase deficiency. Polymorphisms in this gene are \n",
    "associated with lactase persistence, in which intestinal lactase activity \n",
    "persists at childhood levels into adulthood. [1]"
   ]
  },
  {
   "cell_type": "code",
   "execution_count": 2,
   "metadata": {},
   "outputs": [],
   "source": [
    "from Bio import Entrez, Seq, SeqIO, SeqRecord "
   ]
  },
  {
   "cell_type": "code",
   "execution_count": 3,
   "metadata": {},
   "outputs": [],
   "source": [
    "Entrez.email = \"user@email.com\" #Enter Your Email\n",
    "hdl = Entrez.efetch(db='nucleotide', id=['NM_002299'], rettype='gb') \n",
    "gb_rec = SeqIO.read(hdl, 'gb')       "
   ]
  },
  {
   "cell_type": "code",
   "execution_count": 4,
   "metadata": {},
   "outputs": [],
   "source": [
    "for feature in gb_rec.features:\n",
    "    if feature.type =='CDS':\n",
    "        location = feature.location\n",
    "cds = SeqRecord.SeqRecord(\n",
    "    gb_rec.seq[location.start:location.end], description='LCT CDS only')"
   ]
  },
  {
   "cell_type": "code",
   "execution_count": 5,
   "metadata": {},
   "outputs": [],
   "source": [
    "w_hdl = open('example.fasta', 'w')\n",
    "SeqIO.write([cds], w_hdl, 'fasta')\n",
    "w_hdl.close()"
   ]
  },
  {
   "cell_type": "code",
   "execution_count": 7,
   "metadata": {},
   "outputs": [
    {
     "name": "stdout",
     "output_type": "stream",
     "text": [
      "<unknown id> LCT CDS only\n",
      "ATGGAGCTGT\n"
     ]
    }
   ],
   "source": [
    "recs =SeqIO.parse('example.fasta', 'fasta')\n",
    "for rec in recs:\n",
    "    seq = rec.seq\n",
    "    print(rec.description)\n",
    "    print(seq[:10])"
   ]
  },
  {
   "cell_type": "code",
   "execution_count": 8,
   "metadata": {},
   "outputs": [
    {
     "name": "stdout",
     "output_type": "stream",
     "text": [
      "(Seq('ATGGAGCTGTCT'), Seq('TCTTCATTCTGA'))\n"
     ]
    },
    {
     "data": {
      "text/plain": [
       "Seq('AUGGAGCUGUCUUGGCAUGUAGUCUUUAUUGCCCUGCUAAGUUUUUCAUGCUGG...UGA')"
      ]
     },
     "execution_count": 8,
     "metadata": {},
     "output_type": "execute_result"
    }
   ],
   "source": [
    "print((seq[:12], seq[-12:]))\n",
    "rna = seq.transcribe()\n",
    "rna"
   ]
  },
  {
   "cell_type": "code",
   "execution_count": 9,
   "metadata": {},
   "outputs": [
    {
     "data": {
      "text/plain": [
       "Seq('MELSWHVVFIALLSFSCWGSDWESDRNFISTAGPLTNDLLHNLSGLLGDQSSNF...SF*')"
      ]
     },
     "execution_count": 9,
     "metadata": {},
     "output_type": "execute_result"
    }
   ],
   "source": [
    "prot = seq.translate()\n",
    "prot"
   ]
  },
  {
   "cell_type": "markdown",
   "metadata": {},
   "source": [
    "1. LCT lactase, National Library of Medicine, https://www.ncbi.nlm.nih.gov/gene/3938\n"
   ]
  }
 ],
 "metadata": {
  "kernelspec": {
   "display_name": "r-bioconda",
   "language": "python",
   "name": "python3"
  },
  "language_info": {
   "codemirror_mode": {
    "name": "ipython",
    "version": 3
   },
   "file_extension": ".py",
   "mimetype": "text/x-python",
   "name": "python",
   "nbconvert_exporter": "python",
   "pygments_lexer": "ipython3",
   "version": "3.10.12"
  },
  "orig_nbformat": 4
 },
 "nbformat": 4,
 "nbformat_minor": 2
}
