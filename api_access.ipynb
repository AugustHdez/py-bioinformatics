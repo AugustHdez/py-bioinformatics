{
 "cells": [
  {
   "cell_type": "markdown",
   "metadata": {},
   "source": [
    "#### GenBank databases from the National Center for Biotechnology Information (NCBI) though an API"
   ]
  },
  {
   "cell_type": "code",
   "execution_count": 1,
   "metadata": {},
   "outputs": [],
   "source": [
    "from Bio import Entrez, Medline, SeqIO"
   ]
  },
  {
   "cell_type": "code",
   "execution_count": 2,
   "metadata": {},
   "outputs": [],
   "source": [
    "Entrez.email = \"user@email.com\" #enter a valid email address"
   ]
  },
  {
   "cell_type": "code",
   "execution_count": 3,
   "metadata": {},
   "outputs": [
    {
     "name": "stdout",
     "output_type": "stream",
     "text": [
      "{'DbList': ['pubmed', 'protein', 'nuccore', 'ipg', 'nucleotide', 'structure', 'genome', 'annotinfo', 'assembly', 'bioproject', 'biosample', 'blastdbinfo', 'books', 'cdd', 'clinvar', 'gap', 'gapplus', 'grasp', 'dbvar', 'gene', 'gds', 'geoprofiles', 'homologene', 'medgen', 'mesh', 'nlmcatalog', 'omim', 'orgtrack', 'pmc', 'popset', 'proteinclusters', 'pcassay', 'protfam', 'pccompound', 'pcsubstance', 'seqannot', 'snp', 'sra', 'taxonomy', 'biocollections', 'gtr']}\n"
     ]
    }
   ],
   "source": [
    "handle = Entrez.einfo()\n",
    "rec = Entrez.read(handle)\n",
    "print(rec)"
   ]
  },
  {
   "cell_type": "code",
   "execution_count": 4,
   "metadata": {},
   "outputs": [],
   "source": [
    "handle = Entrez.esearch(\n",
    "    db=\"nucleotide\", \n",
    "    term='CRT[Gene Name] AND \"Plasmodium falciparum\"[Organism]'\n",
    "    )\n",
    "rec_list = Entrez.read(handle)\n",
    "if int(rec_list['RetMax']) < int(rec_list['Count']):\n",
    "    handle = Entrez.esearch(\n",
    "        db=\"nucleotide\",\n",
    "        term='CRT[Gen Name] AND \"Plasmodium falciparum\"[Organism]',\n",
    "        retmax=rec_list['Count']\n",
    "        )\n",
    "id_list = rec_list['IdList']\n",
    "hdl = Entrez.efetch(\n",
    "    db='nucleotide', \n",
    "    id=id_list, \n",
    "    rettype='gb',\n",
    "    retmax=rec_list['Count'] \n",
    "    )\n",
    "recs = list(SeqIO.parse(hdl, 'gb'))"
   ]
  },
  {
   "cell_type": "code",
   "execution_count": 5,
   "metadata": {},
   "outputs": [
    {
     "name": "stdout",
     "output_type": "stream",
     "text": [
      "OQ672432\n",
      "Plasmodium falciparum isolate CZS_15 chloroquine resistance transporter (crt) gene, partial cds\n"
     ]
    }
   ],
   "source": [
    "for rec in recs:\n",
    "    if rec.name == 'KM288867':\n",
    "        break\n",
    "\n",
    "print(rec.name)\n",
    "print(rec.description)"
   ]
  },
  {
   "cell_type": "code",
   "execution_count": 7,
   "metadata": {},
   "outputs": [
    {
     "name": "stdout",
     "output_type": "stream",
     "text": [
      "not processed:\n",
      "type: source\n",
      "location: [0:145](+)\n",
      "qualifiers:\n",
      "    Key: country, Value: ['Brazil']\n",
      "    Key: db_xref, Value: ['taxon:5833']\n",
      "    Key: isolate, Value: ['CZS_15']\n",
      "    Key: mol_type, Value: ['genomic DNA']\n",
      "    Key: organism, Value: ['Plasmodium falciparum']\n",
      "\n",
      "['crt']\n",
      "not processed:\n",
      "type: mRNA\n",
      "location: [<0:>145](+)\n",
      "qualifiers:\n",
      "    Key: gene, Value: ['crt']\n",
      "    Key: product, Value: ['chloroquine resistance transporter']\n",
      "\n",
      "not processed:\n",
      "type: CDS\n",
      "location: [<0:>145](+)\n",
      "qualifiers:\n",
      "    Key: codon_start, Value: ['1']\n",
      "    Key: gene, Value: ['crt']\n",
      "    Key: note, Value: ['localized within the digestive vacuole membrane']\n",
      "    Key: product, Value: ['chloroquine resistance transporter']\n",
      "    Key: protein_id, Value: ['WHO19581.1']\n",
      "    Key: translation, Value: ['CAHVFKLIFKEIKDNIFIYILSIIYLSVSVMNTIFAKRTLNKIGNYSF']\n",
      "\n"
     ]
    }
   ],
   "source": [
    "for feature in rec.features:\n",
    "    if feature.type =='gene':\n",
    "        print(feature.qualifiers['gene'])\n",
    "    elif feature.type == 'exon':\n",
    "        loc = feature.location\n",
    "        print('Exon', loc.start, loc.end, loc.strand)\n",
    "    else:\n",
    "        print('not processed:\\n%s' % feature)"
   ]
  },
  {
   "cell_type": "code",
   "execution_count": 9,
   "metadata": {},
   "outputs": [
    {
     "name": "stdout",
     "output_type": "stream",
     "text": [
      "molecule_type=DNA\n",
      "topology=linear\n",
      "data_file_division=INV\n",
      "date=24-MAY-2023\n",
      "accessions=['OQ672432']\n",
      "sequence_version=1\n",
      "keywords=['']\n",
      "source=Plasmodium falciparum (malaria parasite P. falciparum)\n",
      "organism=Plasmodium falciparum\n",
      "taxonomy=['Eukaryota', 'Sar', 'Alveolata', 'Apicomplexa', 'Aconoidasida', 'Haemosporida', 'Plasmodiidae', 'Plasmodium', 'Plasmodium (Laverania)']\n",
      "references=[Reference(title='Plasmodium falciparum Chloroquine-pfcrt Resistant Haplotypes in Brazilian Endemic Areas Four Decades after CQ Withdrawn', ...), Reference(title='Direct Submission', ...)]\n",
      "structured_comment=defaultdict(<class 'dict'>, {'Assembly-Data': {'Sequencing Technology': 'Sanger dideoxy sequencing'}})\n"
     ]
    }
   ],
   "source": [
    "for name, value in rec.annotations.items():\n",
    "    print('%s=%s' % (name, value))"
   ]
  },
  {
   "cell_type": "code",
   "execution_count": 10,
   "metadata": {},
   "outputs": [
    {
     "data": {
      "text/plain": [
       "145"
      ]
     },
     "execution_count": 10,
     "metadata": {},
     "output_type": "execute_result"
    }
   ],
   "source": [
    "len(rec.seq)"
   ]
  },
  {
   "cell_type": "code",
   "execution_count": 11,
   "metadata": {},
   "outputs": [
    {
     "name": "stdout",
     "output_type": "stream",
     "text": [
      "[Reference(title='Plasmodium falciparum Chloroquine-pfcrt Resistant Haplotypes in Brazilian Endemic Areas Four Decades after CQ Withdrawn', ...), Reference(title='Direct Submission', ...)]\n"
     ]
    }
   ],
   "source": [
    "refs = rec.annotations['references']\n",
    "print(refs)\n",
    "for ref in refs:\n",
    "    if ref.pubmed_id != '':\n",
    "        print(ref.pubmed_id)\n",
    "        handle = Entrez.efetch(\n",
    "            db=\"bubmed\",\n",
    "            id=[ref.pubmed_id],\n",
    "            rettype=\"medline\",\n",
    "            retmode = \"text\"\n",
    "        )\n",
    "        records = Medline.parse(handle)\n",
    "        for med_rec in records:\n",
    "            for k, v in med_rec.items():\n",
    "                print('%s: %s' % (k,v))"
   ]
  }
 ],
 "metadata": {
  "kernelspec": {
   "display_name": "r-bioconda",
   "language": "python",
   "name": "python3"
  },
  "language_info": {
   "codemirror_mode": {
    "name": "ipython",
    "version": 3
   },
   "file_extension": ".py",
   "mimetype": "text/x-python",
   "name": "python",
   "nbconvert_exporter": "python",
   "pygments_lexer": "ipython3",
   "version": "3.10.12"
  },
  "orig_nbformat": 4
 },
 "nbformat": 4,
 "nbformat_minor": 2
}
